{
 "cells": [
  {
   "cell_type": "markdown",
   "id": "1df1c611",
   "metadata": {},
   "source": [
    "# LG Customer Pricing Dataset Processing\n",
    "This notebook processes the `lg_customer_pricing_dataset.csv` for segmentation and pricing optimization analysis."
   ]
  },
  {
   "cell_type": "code",
   "execution_count": null,
   "id": "f2e0c808",
   "metadata": {},
   "outputs": [],
   "source": [
    "import pandas as pd\n",
    "import numpy as np\n",
    "import matplotlib.pyplot as plt\n",
    "import seaborn as sns"
   ]
  },
  {
   "cell_type": "code",
   "execution_count": null,
   "id": "49b5f4c5",
   "metadata": {},
   "outputs": [],
   "source": [
    "df = pd.read_csv('lg_customer_pricing_dataset.csv')\n",
    "df.head()"
   ]
  },
  {
   "cell_type": "code",
   "execution_count": null,
   "id": "5dbe36d6",
   "metadata": {},
   "outputs": [],
   "source": [
    "df.info()\n",
    "\n",
    "df.describe(include='all')"
   ]
  },
  {
   "cell_type": "code",
   "execution_count": null,
   "id": "803acb60",
   "metadata": {},
   "outputs": [],
   "source": [
    "df.isnull().sum()"
   ]
  },
  {
   "cell_type": "markdown",
   "id": "4a2a2aea",
   "metadata": {},
   "source": [
    "## Exploratory Data Analysis"
   ]
  },
  {
   "cell_type": "code",
   "execution_count": null,
   "id": "73f386ce",
   "metadata": {},
   "outputs": [],
   "source": [
    "sns.histplot(df['Spend'], bins=50, kde=True)\n",
    "plt.title('Distribution of Spend')\n",
    "plt.show()"
   ]
  },
  {
   "cell_type": "code",
   "execution_count": null,
   "id": "745da822",
   "metadata": {},
   "outputs": [],
   "source": [
    "sns.countplot(x='Region', data=df)\n",
    "plt.title('Customer Distribution by Region')\n",
    "plt.show()"
   ]
  },
  {
   "cell_type": "code",
   "execution_count": null,
   "id": "7a89cdd4",
   "metadata": {},
   "outputs": [],
   "source": [
    "sns.countplot(x='Preference', data=df)\n",
    "plt.title('Customer Preferences')\n",
    "plt.show()"
   ]
  },
  {
   "cell_type": "markdown",
   "id": "38945266",
   "metadata": {},
   "source": [
    "## Simple Elasticity Approximation"
   ]
  },
  {
   "cell_type": "code",
   "execution_count": null,
   "id": "0fe7eee8",
   "metadata": {},
   "outputs": [],
   "source": [
    "elasticity_results = df.groupby('Region').apply(\n",
    "    lambda x: np.corrcoef(x['LGPrice'], x['Spend'])[0,1]\n",
    ")\n",
    "elasticity_results"
   ]
  }
 ],
 "metadata": {},
 "nbformat": 4,
 "nbformat_minor": 5
}